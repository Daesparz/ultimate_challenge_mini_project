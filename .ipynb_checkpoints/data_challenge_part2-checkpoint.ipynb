{
 "cells": [
  {
   "cell_type": "markdown",
   "metadata": {},
   "source": [
    "# Data Analysis Interview Challenge"
   ]
  },
  {
   "cell_type": "markdown",
   "metadata": {},
   "source": [
    "## Part 2 - Experiment and metrics design\n",
    "\n",
    "The neighboring cities of Gotham and Metropolis have complementary circadian rhythms: on weekdays, Ultimate Gotham is most active at night and Ultimate Metropolis is most active during the day. On weekends, there is a reasonable activity in both cities.\n",
    "\n",
    "However, a toll bridge, with a two-way toll, the two cities causes driver partners to tend to be exclusive to each city. The Ultimate managers of city operations for the two cities have proposed and experiment to encourage driver partners to be available in both cities, by reimbursing all toll costs.\n",
    "\n",
    "1. What would you choose as the key measure of sucess of this experiment in encouraging driver partners to serve both cities, and why would you choose this metrics?\n",
    "\n",
    "2. Describe a practical experiment you would design to compare the effectiveness of the proposed change in relation to the key measure of success. Please provide details on:\n",
    "        a. how you will implement the experiment\n",
    "        b. what statistical test(s) you will conduct to verify the significance of the observation\n",
    "        c. how you would interpret the results and provide recommendations to the city operations team along with any caveats."
   ]
  },
  {
   "cell_type": "markdown",
   "metadata": {},
   "source": [
    "Using the starting and ending geography points of every trip and for a given driver, we can measure ratios describing his behavior according to the trend to keep in the same city or crossing to the another zone. It means that we must determine:\n",
    "\n",
    "1. Ratio Gotham: number of trips that starts and finishes in Gotham\n",
    "2. Ratio Metropolis: number of trips that starts and finishes in Metropolis\n",
    "3. Ratio Bridge: number of trips that crosses the bridge\n",
    "\n",
    "Additionally, the information about complementary circadian rhythms must be considered. For instances, in weekends, the behavior in both cities is similar but in weekdays is complementary. Thus, we must assemble different scenarios for the experiment: day hours in weekdays, night hours in weekdays and hours in weekends. "
   ]
  },
  {
   "cell_type": "markdown",
   "metadata": {},
   "source": [
    "In this way, we can elaborate a profile for driver, according to the trend to keep in the same zone or not. Every driver is determine by a Gotham, Metropolis and Bridge ratio. Besides, we create two experimental escenarios: for weekdays, we classify drivers depending on their predominant working schedule: day, night, all-terrain (this last category is for drivers that register similar quantity of trips during the day and night). For weekends, behaviors are similar, thus we don't need split types of drivers.\n",
    "\n",
    "The test could split the drivers in a control and testing group and implement the reimbursement program in the testing group. Both groups are extremely important to define the impact of the reimbursement, because if both change, we can't attribuite the difference exclusively to reimbursement. The ratios are re-calculated, under the consideration that only the variable 'reimbursement' is the change between the after and before scenarios. \n",
    "\n",
    "We are specially focus in groups that are not crossing the bridge. Separately and split by weekday-hours and weekends, the could discuss the null hyphotesis about if the frequency of the ratios still being the same or no. In this case, we could resolve the problem using a chi-squared test. Another approach consist on compare the distributions of every ratio before/after (variance and mean) under the null hypothesis of same mean/variance for both distributions. We could use a two z statistic test, t-test if all groups are normally distributed or Kolmogorov-Smirnov'test to compare two observed unparammetric distributions.\n",
    "\n",
    "If Gotham and Metropolis ratios decline in the testing group, it could indicate that the experiment was sucessful, because we would reject the null hypothesis, with a p-value lower than a given significance level alpha. But, if the Gotham and Metropolis ratios decline in the control group, we can't attribuite the difference exclusively to reimbursement and another test must be designed."
   ]
  },
  {
   "cell_type": "code",
   "execution_count": null,
   "metadata": {},
   "outputs": [],
   "source": []
  }
 ],
 "metadata": {
  "kernelspec": {
   "display_name": "Python 3",
   "language": "python",
   "name": "python3"
  },
  "language_info": {
   "codemirror_mode": {
    "name": "ipython",
    "version": 3
   },
   "file_extension": ".py",
   "mimetype": "text/x-python",
   "name": "python",
   "nbconvert_exporter": "python",
   "pygments_lexer": "ipython3",
   "version": "3.7.1"
  }
 },
 "nbformat": 4,
 "nbformat_minor": 2
}
